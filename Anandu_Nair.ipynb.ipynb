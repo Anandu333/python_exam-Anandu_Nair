{
 "cells": [
  {
   "cell_type": "code",
   "execution_count": 47,
   "id": "ec42fa6a-d00d-4e21-a0fb-178dc889e493",
   "metadata": {},
   "outputs": [
    {
     "name": "stdin",
     "output_type": "stream",
     "text": [
      "enter the string:  the QUICK brown fox jumps over the \n"
     ]
    },
    {
     "name": "stdout",
     "output_type": "stream",
     "text": [
      "adglyz"
     ]
    }
   ],
   "source": [
    "def pangram(s):\n",
    "    a=\"abcdefghijklmnopqrstuvwxyz\"\n",
    "\n",
    "    str=s.lower()\n",
    "    \n",
    "    \n",
    "    for i in a:\n",
    "        if i not in str:\n",
    "            p=i\n",
    "       \n",
    "            print(p,end=\"\")\n",
    "            \n",
    "            \n",
    "s=input(\"enter the string: \")\n",
    "pangram(s)\n",
    "    "
   ]
  },
  {
   "cell_type": "code",
   "execution_count": 64,
   "id": "cd5f62dd-6e58-4c82-af76-d5588ab8ef67",
   "metadata": {},
   "outputs": [
    {
     "name": "stdout",
     "output_type": "stream",
     "text": [
      "------Categories------\n",
      "------1.Electronics---\n",
      "------2.Clothing------\n",
      "------3.Groceries-----\n"
     ]
    },
    {
     "name": "stdin",
     "output_type": "stream",
     "text": [
      "enter the value:  1\n",
      "enter the product name: moto\n",
      "enter the category:  electronics\n",
      "enter the price:  120\n",
      "enter the quantity:  4\n"
     ]
    },
    {
     "name": "stdout",
     "output_type": "stream",
     "text": [
      "Data fetched....\n",
      "------Categories------\n",
      "------1.Electronics---\n",
      "------2.Clothing------\n",
      "------3.Groceries-----\n"
     ]
    },
    {
     "name": "stdin",
     "output_type": "stream",
     "text": [
      "enter the value:  2\n",
      "enter the product name: zara\n",
      "enter the category:  clothing\n",
      "enter the price:  145\n",
      "enter the quantity:  3\n"
     ]
    },
    {
     "name": "stdout",
     "output_type": "stream",
     "text": [
      "------Categories------\n",
      "------1.Electronics---\n",
      "------2.Clothing------\n",
      "------3.Groceries-----\n"
     ]
    },
    {
     "name": "stdin",
     "output_type": "stream",
     "text": [
      "enter the value:  0\n"
     ]
    },
    {
     "name": "stdout",
     "output_type": "stream",
     "text": [
      "exiting the system\n",
      "{101: [['moto', 'electronics', 120, 4]], 102: [['zara', 'clothing', 145, 3]]}\n"
     ]
    }
   ],
   "source": [
    "# 2.Inventory management system\n",
    "inventory={}\n",
    "key_gen=100\n",
    "def Electronics():\n",
    "    global key_gen\n",
    "    data=[]\n",
    "    data.append(input(\"enter the product name:\"))\n",
    "    data.append(input(\"enter the category: \"))\n",
    "    data.append(int(input(\"enter the price: \")))\n",
    "    data.append(int(input('enter the quantity: ')))\n",
    "    key_gen+=1\n",
    "    inventory[key_gen]=[data]\n",
    "    print(\"Data fetched....\")\n",
    "def Clothing():\n",
    "    global key_gen\n",
    "    data=[]\n",
    "    data.append(input(\"enter the product name:\"))\n",
    "    data.append(input(\"enter the category: \"))\n",
    "    data.append(int(input(\"enter the price: \")))\n",
    "    data.append(int(input('enter the quantity: ')))\n",
    "    key_gen+=1\n",
    "    inventory[key_gen]=[data]\n",
    "def Groceries():\n",
    "    global key_gen\n",
    "    data=[]\n",
    "    data.append(input(\"enter the product name:\"))\n",
    "    data.append(input(\"enter the category: \"))\n",
    "    data.append(int(input(\"enter the price: \")))\n",
    "    data.append(int(input('enter the quantity: ')))\n",
    "    key_gen+=1\n",
    "    inventory[key_gen]= [data]\n",
    "    \n",
    "while True:\n",
    "    print(\"------Categories------\")\n",
    "    print(\"------1.Electronics---\")\n",
    "    print(\"------2.Clothing------\")\n",
    "    print(\"------3.Groceries-----\")\n",
    "    ch=int(input(\"enter the value: \"))\n",
    "    if ch==0:\n",
    "        print(\"exiting the system\")\n",
    "        break\n",
    "    if ch==1:\n",
    "        Electronics()\n",
    "    if ch==2:\n",
    "        Clothing()\n",
    "    if ch==3:\n",
    "        Groceries()\n",
    "print(inventory)\n",
    "\n",
    "# with open(\"inventory_data.txt\",\"w\") as fr1:\n",
    "#     fr1.write(inventory)"
   ]
  },
  {
   "cell_type": "code",
   "execution_count": 76,
   "id": "4c045ec4-59e0-4281-b325-ab63801bd3b5",
   "metadata": {},
   "outputs": [
    {
     "name": "stdout",
     "output_type": "stream",
     "text": [
      "<_io.TextIOWrapper name='inventory_data.txt' mode='r' encoding='cp1252'>\n"
     ]
    }
   ],
   "source": [
    "with open(\"inventory_data.txt\",\"w\") as fr1:\n",
    "    line=\"product_name-mobile\\ncategory-Electronics\\nPrice-1200\\nquantity-1 \\n\\nproduct_name-t-shirt\\ncategory-clothing\\nPrice-500\\nquantity-1\\n\\nproduct_name-sugar\\ncategory-Groceries\\nPrice-500\\nquantity-1\"\n",
    "    fr1.write(line)\n",
    "\n",
    "# 1.Data Parsing\n",
    "\n",
    "with open(\"inventory_data.txt\",\"r\") as fr2:\n",
    "    print(fr2)"
   ]
  },
  {
   "cell_type": "code",
   "execution_count": null,
   "id": "6553e8c2-074e-4a0b-9732-f257e070b23e",
   "metadata": {},
   "outputs": [],
   "source": []
  }
 ],
 "metadata": {
  "kernelspec": {
   "display_name": "Python 3 (ipykernel)",
   "language": "python",
   "name": "python3"
  },
  "language_info": {
   "codemirror_mode": {
    "name": "ipython",
    "version": 3
   },
   "file_extension": ".py",
   "mimetype": "text/x-python",
   "name": "python",
   "nbconvert_exporter": "python",
   "pygments_lexer": "ipython3",
   "version": "3.11.7"
  }
 },
 "nbformat": 4,
 "nbformat_minor": 5
}
